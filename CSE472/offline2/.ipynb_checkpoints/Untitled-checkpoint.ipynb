{
 "cells": [
  {
   "cell_type": "code",
   "execution_count": 21,
   "metadata": {},
   "outputs": [],
   "source": [
    "import numpy as np\n",
    "import pandas as pd\n",
    "import random\n",
    "import matplotlib.pyplot as plt\n",
    "from scipy.stats import norm\n",
    "from sklearn.datasets import make_spd_matrix"
   ]
  },
  {
   "cell_type": "code",
   "execution_count": 114,
   "metadata": {},
   "outputs": [],
   "source": [
    "np.random.seed(43)"
   ]
  },
  {
   "cell_type": "code",
   "execution_count": 115,
   "metadata": {},
   "outputs": [],
   "source": [
    "def generate_data(n_feat,n_clust,mu_list,cov_list,n_sample_per_clust):\n",
    "    \n",
    "    features=[]\n",
    "    for x in range(n_feat):\n",
    "        features.append([])\n",
    "        \n",
    "    for mu, cov in zip(mu_list,cov_list):\n",
    "        TT=np.random.multivariate_normal(mu,cov,n_sample_per_clust).T\n",
    "        for i in range(n_feat):\n",
    "            features[i].append(TT[i])\n",
    "    for i in range(len(features)):\n",
    "        features[i]=np.concatenate(features[i])   \n",
    "    labels=[]\n",
    "    for i in range(1,n_clust+1):\n",
    "        labels+=[i]*n_sample_per_clust\n",
    "    \n",
    "    data = {'label':labels}\n",
    "    \n",
    "    for i in range(len(features)):\n",
    "        data['feat_'+str(i)]=features[i]\n",
    "    \n",
    "    df=pd.DataFrame(data=data)\n",
    "    return df"
   ]
  },
  {
   "cell_type": "code",
   "execution_count": 116,
   "metadata": {},
   "outputs": [],
   "source": [
    "def plot_data_scatter(feat1,feat2,sz,label,data):\n",
    "    plt.scatter(x=data[feat1],y=data[feat2],s=sz,c=data[label])"
   ]
  },
  {
   "cell_type": "code",
   "execution_count": null,
   "metadata": {},
   "outputs": [],
   "source": []
  },
  {
   "cell_type": "code",
   "execution_count": 145,
   "metadata": {},
   "outputs": [],
   "source": [
    "class Cluster:\n",
    "    def __init__(self,mu,cov):\n",
    "        assert(len(mu)*len(mu)==len(cov)*len(cov[0]))\n",
    "        self.mu=mu\n",
    "        self.cov=cov"
   ]
  },
  {
   "cell_type": "code",
   "execution_count": null,
   "metadata": {},
   "outputs": [],
   "source": []
  },
  {
   "cell_type": "code",
   "execution_count": 286,
   "metadata": {},
   "outputs": [],
   "source": [
    "def x_belongs_to_i(x,mu,cov):\n",
    "    mm=np.asmatrix(cov)\n",
    "    nn=np.asmatrix(mu)\n",
    "    xx=np.asmatrix(x)\n",
    "    \n",
    "    e_param=-0.5*(x-nn)*np.linalg.pinv(mm)*(x-nn).T\n",
    "    #print(e_param)\n",
    "    #print(np.sqrt(2*np.pi*np.linalg.det(cov)))\n",
    "    return np.linalg.det(np.exp(e_param)/np.sqrt(2*np.pi*np.linalg.det(cov)))"
   ]
  },
  {
   "cell_type": "code",
   "execution_count": 174,
   "metadata": {},
   "outputs": [],
   "source": []
  },
  {
   "cell_type": "code",
   "execution_count": null,
   "metadata": {},
   "outputs": [],
   "source": []
  },
  {
   "cell_type": "code",
   "execution_count": null,
   "metadata": {},
   "outputs": [],
   "source": []
  },
  {
   "cell_type": "code",
   "execution_count": null,
   "metadata": {},
   "outputs": [],
   "source": []
  },
  {
   "cell_type": "code",
   "execution_count": null,
   "metadata": {},
   "outputs": [],
   "source": []
  },
  {
   "cell_type": "code",
   "execution_count": null,
   "metadata": {},
   "outputs": [],
   "source": []
  },
  {
   "cell_type": "code",
   "execution_count": null,
   "metadata": {},
   "outputs": [],
   "source": []
  },
  {
   "cell_type": "code",
   "execution_count": null,
   "metadata": {},
   "outputs": [],
   "source": []
  },
  {
   "cell_type": "code",
   "execution_count": null,
   "metadata": {},
   "outputs": [],
   "source": []
  },
  {
   "cell_type": "code",
   "execution_count": 273,
   "metadata": {},
   "outputs": [
    {
     "data": {
      "image/png": "[encoded data removed]",
      "text/plain": [
       "<Figure size 432x288 with 1 Axes>"
      ]
     },
     "metadata": {},
     "output_type": "display_data"
    }
   ],
   "source": [
    "mu1 = [0, 5]\n",
    "sig1 = [ [2, 0], [0, 3] ]\n",
    "\n",
    "mu2 = [5, 0]\n",
    "sig2 = [ [4, 0], [0, 1] ]\n",
    "\n",
    "\n",
    "df=generate_data(2,2,[mu1,mu2],[sig1,sig2],30)\n",
    "df.head()\n",
    "\n",
    "df_t=df.drop(columns=[\"label\"])\n",
    "plot_data_scatter(\"feat_0\",\"feat_1\",20,\"label\",df)\n",
    "plt.show()\n",
    "\n",
    "\n",
    "\n",
    "c1=Cluster(mu=mu1,cov=sig1)\n",
    "c2=Cluster(mu=mu2,cov=sig2)"
   ]
  },
  {
   "cell_type": "code",
   "execution_count": 283,
   "metadata": {},
   "outputs": [],
   "source": []
  },
  {
   "cell_type": "code",
   "execution_count": 284,
   "metadata": {},
   "outputs": [],
   "source": [
    "for row in df_t.itertuples(index=False, name='Pandas'):\n",
    "    x=np.asarray(row)\n",
    "    break"
   ]
  },
  {
   "cell_type": "code",
   "execution_count": 285,
   "metadata": {},
   "outputs": [
    {
     "data": {
      "text/plain": [
       "0.138309523619583"
      ]
     },
     "execution_count": 285,
     "metadata": {},
     "output_type": "execute_result"
    }
   ],
   "source": [
    "x_belongs_to_i(x=x,cov=c1.cov,mu=c1.mu)"
   ]
  },
  {
   "cell_type": "code",
   "execution_count": null,
   "metadata": {},
   "outputs": [],
   "source": []
  },
  {
   "cell_type": "code",
   "execution_count": null,
   "metadata": {},
   "outputs": [],
   "source": []
  }
 ],
 "metadata": {
  "kernelspec": {
   "display_name": "Python 3",
   "language": "python",
   "name": "python3"
  },
  "language_info": {
   "codemirror_mode": {
    "name": "ipython",
    "version": 3
   },
   "file_extension": ".py",
   "mimetype": "text/x-python",
   "name": "python",
   "nbconvert_exporter": "python",
   "pygments_lexer": "ipython3",
   "version": "3.6.5"
  }
 },
 "nbformat": 4,
 "nbformat_minor": 2
}
