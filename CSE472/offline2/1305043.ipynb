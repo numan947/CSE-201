{
 "cells": [
  {
   "cell_type": "code",
   "execution_count": 213,
   "metadata": {},
   "outputs": [],
   "source": [
    "import numpy as np\n",
    "import pandas as pd\n",
    "import random\n",
    "import matplotlib.pyplot as plt\n",
    "from scipy.stats import norm\n",
    "from sklearn.datasets import make_spd_matrix\n",
    "import sys\n",
    "import operator\n",
    "from scipy.stats import multivariate_normal"
   ]
  },
  {
   "cell_type": "code",
   "execution_count": 214,
   "metadata": {},
   "outputs": [],
   "source": [
    "np.random.seed(43)"
   ]
  },
  {
   "cell_type": "code",
   "execution_count": 215,
   "metadata": {},
   "outputs": [],
   "source": [
    "def generate_data(n_feat,n_clust,mu_list,cov_list,n_sample_per_clust):\n",
    "    \n",
    "    features=[]\n",
    "    for x in range(n_feat):\n",
    "        features.append([])\n",
    "        \n",
    "    for mu, cov in zip(mu_list,cov_list):\n",
    "        TT=np.random.multivariate_normal(mu,cov,n_sample_per_clust).T\n",
    "        for i in range(n_feat):\n",
    "            features[i].append(TT[i])\n",
    "    for i in range(len(features)):\n",
    "        features[i]=np.concatenate(features[i])   \n",
    "    labels=[]\n",
    "    for i in range(1,n_clust+1):\n",
    "        labels+=[i]*n_sample_per_clust\n",
    "    \n",
    "    data = {'label':labels}\n",
    "    \n",
    "    for i in range(len(features)):\n",
    "        data['feat_'+str(i)]=features[i]\n",
    "    \n",
    "    df=pd.DataFrame(data=data)\n",
    "    return df"
   ]
  },
  {
   "cell_type": "code",
   "execution_count": 216,
   "metadata": {},
   "outputs": [],
   "source": [
    "def plot_data_scatter(feat1,feat2,sz,label,data):\n",
    "    plt.scatter(x=data[feat1],y=data[feat2],s=sz,c=data[label])"
   ]
  },
  {
   "cell_type": "code",
   "execution_count": null,
   "metadata": {},
   "outputs": [],
   "source": []
  },
  {
   "cell_type": "code",
   "execution_count": 217,
   "metadata": {},
   "outputs": [],
   "source": [
    "class Cluster:\n",
    "    def __init__(self,mu,cov):\n",
    "        assert(len(mu)*len(mu)==len(cov)*len(cov[0]))\n",
    "        self.mu=mu\n",
    "        self.cov=cov"
   ]
  },
  {
   "cell_type": "code",
   "execution_count": 218,
   "metadata": {},
   "outputs": [],
   "source": [
    "def calculate_prob(x,mu,cov,w):\n",
    "    prob=w\n",
    "    prob*=multivariate_normal.pdf(x=x,cov=cov,mean=mu)\n",
    "    return prob\n"
   ]
  },
  {
   "cell_type": "code",
   "execution_count": 219,
   "metadata": {},
   "outputs": [],
   "source": [
    "def normalize(probs):\n",
    "    #print(\"sum \",sum(probs))\n",
    "    return [p/sum(probs) for p in probs]"
   ]
  },
  {
   "cell_type": "code",
   "execution_count": 220,
   "metadata": {},
   "outputs": [],
   "source": [
    "def getMatrix(size):\n",
    "    from scipy import random\n",
    "    A= random.rand(size,size)\n",
    "    B=np.dot(A,A.transpose())\n",
    "    return B"
   ]
  },
  {
   "cell_type": "code",
   "execution_count": 221,
   "metadata": {},
   "outputs": [],
   "source": [
    "def initparams(n_clust,n_feat):\n",
    "    params={}\n",
    "    for i in range(n_clust):\n",
    "        params['mu'+str(i+1)]=list(np.random.uniform(size=n_feat,low=0.001,high=1.0))\n",
    "        params['cov'+str(i+1)]=list(getMatrix(n_feat))\n",
    "    \n",
    "    ws=[]\n",
    "    for i in range(n_clust):\n",
    "        ws.append(1/n_clust)\n",
    "    params['weights']=ws\n",
    "    return params"
   ]
  },
  {
   "cell_type": "code",
   "execution_count": 222,
   "metadata": {},
   "outputs": [],
   "source": [
    "#todo incorporate overall loglikelihood here\n",
    "def calculate_change(old,new):\n",
    "    mus=[t for t in list(old.columns) if \"mu\" in t]\n",
    "    covs=[t for t in list(old.columns) if \"cov\" in t]\n",
    "    \n",
    "    d=0.0\n",
    "    \n",
    "    for mu in mus:\n",
    "        for i in range(len(old)):\n",
    "            d+=(old[mu][i]- new[mu][i])**2\n",
    "    \n",
    "    return d**0.5"
   ]
  },
  {
   "cell_type": "code",
   "execution_count": 223,
   "metadata": {},
   "outputs": [],
   "source": [
    "def expectation(df,params,n_clust):\n",
    "    print(\"EXPECTATION\")\n",
    "    cur=0\n",
    "    for row in df.itertuples(index=False, name='Pandas'):\n",
    "        x=list(np.asarray(row))\n",
    "        \n",
    "        for i in range(n_clust+1):\n",
    "            del x[-1]\n",
    "        \n",
    "        clust_probs=[]\n",
    "        for i in range(n_clust):\n",
    "            pp=calculate_prob(x,list(params[\"mu\"+str(i+1)]),list(params[\"cov\"+str(i+1)]),params['weights'][i])\n",
    "            df[\"w\"+str(i+1)][cur]=pp\n",
    "            clust_probs.append(pp)\n",
    "        clust_probs=normalize(clust_probs)\n",
    "        index, value = max(enumerate(clust_probs), key=operator.itemgetter(1))\n",
    "        df['label'][cur]=index+1\n",
    "        cur+=1\n",
    "    \n",
    "    return df"
   ]
  },
  {
   "cell_type": "code",
   "execution_count": 224,
   "metadata": {},
   "outputs": [],
   "source": [
    "def maximize(df,params,n_clust,feat_list):\n",
    "    #print(params)\n",
    "    print(\"MAXIMIZE\")\n",
    "    total=len(df)\n",
    "    \n",
    "    feats=np.asmatrix(df[feat_list])\n",
    "    feats=feats.tolist()\n",
    "    feats=np.array(feats)\n",
    "    #print(type(feats[0][0]))\n",
    "    for i in range(n_clust):\n",
    "        cur_mu=np.array(params[\"mu\"+str(i+1)])\n",
    "        #update mu \n",
    "        dd=\"w\"+str(i+1)\n",
    "        #print(df[dd][0])\n",
    "        new_mu=np.zeros(len(feat_list))\n",
    "        #print(type(new_mu[0]))\n",
    "        for j in range(df.shape[0]):\n",
    "            #print(feats[j])\n",
    "            new_mu+=(feats[j])*df[dd][j]\n",
    "        new_mu/=(df[dd].sum())\n",
    "        params[\"mu\"+str(i+1)]=new_mu\n",
    "        #update cov\n",
    "        new_cov=np.zeros((len(feat_list),len(feat_list)))\n",
    "        #print(\"new cov\")\n",
    "        #print(new_cov)\n",
    "        for j in range(df.shape[0]):\n",
    "            new_cov+=feats[j].T * feats[j] * df[dd][j]\n",
    "        \n",
    "        new_cov/=(df[dd].sum())\n",
    "        #print(new_cov)\n",
    "        params[\"cov\"+str(i+1)]=list(new_cov)\n",
    "        #print(new_cov)\n",
    "        \n",
    "        #update w\n",
    "        params['weights'][i]=(df[dd].sum())/1.0*total\n",
    "        \n",
    "        \n",
    "    #print(params)\n",
    "    return params"
   ]
  },
  {
   "cell_type": "code",
   "execution_count": 225,
   "metadata": {},
   "outputs": [],
   "source": [
    "def loglikelihood(df,n_clust,params,feat_list):\n",
    "    total=len(df)\n",
    "    feats=np.asmatrix(df[feat_list])\n",
    "    feats=feats.tolist()\n",
    "    feats=np.array(feats)\n",
    "    \n",
    "    total_log_like=0\n",
    "    \n",
    "    for i in range(df.shape[0]):\n",
    "        tmp_sum=0\n",
    "        for j in range(n_clust):\n",
    "            tmp_sum+=calculate_prob(cov=list(params[\"cov\"+str(j+1)]),mu=list(params[\"mu\"+str(j+1)]),w=params[\"weights\"][j],x=feats[i])\n",
    "        total_log_like+=np.log(tmp_sum)\n",
    "    \n",
    "    return total_log_like\n",
    "    "
   ]
  },
  {
   "cell_type": "code",
   "execution_count": 226,
   "metadata": {},
   "outputs": [],
   "source": [
    "def EM(df,n_clust,n_feat):\n",
    "    \n",
    "    params=initparams(n_clust,n_feat)\n",
    "    #print(params)\n",
    "    params=pd.DataFrame(params)\n",
    "    \n",
    "    #print(params)\n",
    "    \n",
    "    \n",
    "    df_=df.copy(deep=True)\n",
    "    \n",
    "    #random labeling\n",
    "    df_['label']=np.random.randint(1, n_clust+1, df.shape[0])\n",
    "    \n",
    "    for  i in range(1,n_clust+1):\n",
    "        df_['w'+str(i)]=(1/n_clust)\n",
    "    \n",
    "    #print(df_)\n",
    "    \n",
    "    dist=sys.maxsize\n",
    "    eps=10\n",
    "    n_iter=0\n",
    "    #print(calculate_change(params,params))\n",
    "    feat_list=list(df.columns)\n",
    "    feat_list.remove('label')\n",
    "    #print(loglikelihood(df=df_,feat_list=feat_list,n_clust=n_clust,params=params))\n",
    "    \n",
    "    log_old = loglikelihood(df=df_,feat_list=feat_list,n_clust=n_clust,params=params)\n",
    "    \n",
    "    while( dist > eps):\n",
    "        n_iter+=1\n",
    "        \n",
    "        new_lab=expectation(df_.copy(),params,n_clust)\n",
    "        \n",
    "        \n",
    "        #print(new_lab)\n",
    "        \n",
    "        new_params=maximize(new_lab,params.copy(),n_clust,feat_list)\n",
    "        \n",
    "        \n",
    "        \n",
    "        df_=new_lab\n",
    "        params=new_params\n",
    "        log_new=loglikelihood(df=df_,feat_list=feat_list,n_clust=n_clust,params=params)\n",
    "        \n",
    "        if(abs(abs(log_old)-abs(log_new))<=eps):\n",
    "            break\n",
    "    return params"
   ]
  },
  {
   "cell_type": "code",
   "execution_count": 227,
   "metadata": {
    "scrolled": true
   },
   "outputs": [
    {
     "data": {
      "image/png": "[encoded data removed]",
      "text/plain": [
       "<Figure size 432x288 with 1 Axes>"
      ]
     },
     "metadata": {},
     "output_type": "display_data"
    },
    {
     "name": "stdout",
     "output_type": "stream",
     "text": [
      "EXPECTATION\n"
     ]
    },
    {
     "name": "stderr",
     "output_type": "stream",
     "text": [
      "/home/numan947/anaconda3/lib/python3.6/site-packages/ipykernel_launcher.py:13: SettingWithCopyWarning: \n",
      "A value is trying to be set on a copy of a slice from a DataFrame\n",
      "\n",
      "See the caveats in the documentation: http://pandas.pydata.org/pandas-docs/stable/indexing.html#indexing-view-versus-copy\n",
      "  del sys.path[0]\n",
      "/home/numan947/anaconda3/lib/python3.6/site-packages/ipykernel_launcher.py:17: SettingWithCopyWarning: \n",
      "A value is trying to be set on a copy of a slice from a DataFrame\n",
      "\n",
      "See the caveats in the documentation: http://pandas.pydata.org/pandas-docs/stable/indexing.html#indexing-view-versus-copy\n"
     ]
    },
    {
     "name": "stdout",
     "output_type": "stream",
     "text": [
      "MAXIMIZE\n"
     ]
    },
    {
     "name": "stderr",
     "output_type": "stream",
     "text": [
      "/home/numan947/anaconda3/lib/python3.6/site-packages/ipykernel_launcher.py:35: SettingWithCopyWarning: \n",
      "A value is trying to be set on a copy of a slice from a DataFrame\n",
      "\n",
      "See the caveats in the documentation: http://pandas.pydata.org/pandas-docs/stable/indexing.html#indexing-view-versus-copy\n"
     ]
    },
    {
     "ename": "ValueError",
     "evalue": "the input matrix must be positive semidefinite",
     "output_type": "error",
     "traceback": [
      "\u001b[0;31m---------------------------------------------------------------------------\u001b[0m",
      "\u001b[0;31mValueError\u001b[0m                                Traceback (most recent call last)",
      "\u001b[0;32m<ipython-input-227-d1e59bcee8ff>\u001b[0m in \u001b[0;36m<module>\u001b[0;34m()\u001b[0m\n\u001b[1;32m     15\u001b[0m \u001b[0;34m\u001b[0m\u001b[0m\n\u001b[1;32m     16\u001b[0m \u001b[0;34m\u001b[0m\u001b[0m\n\u001b[0;32m---> 17\u001b[0;31m \u001b[0mEM\u001b[0m\u001b[0;34m(\u001b[0m\u001b[0mdf\u001b[0m\u001b[0;34m,\u001b[0m\u001b[0;36m2\u001b[0m\u001b[0;34m,\u001b[0m\u001b[0;36m2\u001b[0m\u001b[0;34m)\u001b[0m\u001b[0;34m\u001b[0m\u001b[0m\n\u001b[0m",
      "\u001b[0;32m<ipython-input-226-f0d157e08dae>\u001b[0m in \u001b[0;36mEM\u001b[0;34m(df, n_clust, n_feat)\u001b[0m\n\u001b[1;32m     42\u001b[0m         \u001b[0mdf_\u001b[0m\u001b[0;34m=\u001b[0m\u001b[0mnew_lab\u001b[0m\u001b[0;34m\u001b[0m\u001b[0m\n\u001b[1;32m     43\u001b[0m         \u001b[0mparams\u001b[0m\u001b[0;34m=\u001b[0m\u001b[0mnew_params\u001b[0m\u001b[0;34m\u001b[0m\u001b[0m\n\u001b[0;32m---> 44\u001b[0;31m         \u001b[0mlog_new\u001b[0m\u001b[0;34m=\u001b[0m\u001b[0mloglikelihood\u001b[0m\u001b[0;34m(\u001b[0m\u001b[0mdf\u001b[0m\u001b[0;34m=\u001b[0m\u001b[0mdf_\u001b[0m\u001b[0;34m,\u001b[0m\u001b[0mfeat_list\u001b[0m\u001b[0;34m=\u001b[0m\u001b[0mfeat_list\u001b[0m\u001b[0;34m,\u001b[0m\u001b[0mn_clust\u001b[0m\u001b[0;34m=\u001b[0m\u001b[0mn_clust\u001b[0m\u001b[0;34m,\u001b[0m\u001b[0mparams\u001b[0m\u001b[0;34m=\u001b[0m\u001b[0mparams\u001b[0m\u001b[0;34m)\u001b[0m\u001b[0;34m\u001b[0m\u001b[0m\n\u001b[0m\u001b[1;32m     45\u001b[0m \u001b[0;34m\u001b[0m\u001b[0m\n\u001b[1;32m     46\u001b[0m         \u001b[0;32mif\u001b[0m\u001b[0;34m(\u001b[0m\u001b[0mabs\u001b[0m\u001b[0;34m(\u001b[0m\u001b[0mabs\u001b[0m\u001b[0;34m(\u001b[0m\u001b[0mlog_old\u001b[0m\u001b[0;34m)\u001b[0m\u001b[0;34m-\u001b[0m\u001b[0mabs\u001b[0m\u001b[0;34m(\u001b[0m\u001b[0mlog_new\u001b[0m\u001b[0;34m)\u001b[0m\u001b[0;34m)\u001b[0m\u001b[0;34m<=\u001b[0m\u001b[0meps\u001b[0m\u001b[0;34m)\u001b[0m\u001b[0;34m:\u001b[0m\u001b[0;34m\u001b[0m\u001b[0m\n",
      "\u001b[0;32m<ipython-input-225-765e2be87c0c>\u001b[0m in \u001b[0;36mloglikelihood\u001b[0;34m(df, n_clust, params, feat_list)\u001b[0m\n\u001b[1;32m     10\u001b[0m         \u001b[0mtmp_sum\u001b[0m\u001b[0;34m=\u001b[0m\u001b[0;36m0\u001b[0m\u001b[0;34m\u001b[0m\u001b[0m\n\u001b[1;32m     11\u001b[0m         \u001b[0;32mfor\u001b[0m \u001b[0mj\u001b[0m \u001b[0;32min\u001b[0m \u001b[0mrange\u001b[0m\u001b[0;34m(\u001b[0m\u001b[0mn_clust\u001b[0m\u001b[0;34m)\u001b[0m\u001b[0;34m:\u001b[0m\u001b[0;34m\u001b[0m\u001b[0m\n\u001b[0;32m---> 12\u001b[0;31m             \u001b[0mtmp_sum\u001b[0m\u001b[0;34m+=\u001b[0m\u001b[0mcalculate_prob\u001b[0m\u001b[0;34m(\u001b[0m\u001b[0mcov\u001b[0m\u001b[0;34m=\u001b[0m\u001b[0mlist\u001b[0m\u001b[0;34m(\u001b[0m\u001b[0mparams\u001b[0m\u001b[0;34m[\u001b[0m\u001b[0;34m\"cov\"\u001b[0m\u001b[0;34m+\u001b[0m\u001b[0mstr\u001b[0m\u001b[0;34m(\u001b[0m\u001b[0mj\u001b[0m\u001b[0;34m+\u001b[0m\u001b[0;36m1\u001b[0m\u001b[0;34m)\u001b[0m\u001b[0;34m]\u001b[0m\u001b[0;34m)\u001b[0m\u001b[0;34m,\u001b[0m\u001b[0mmu\u001b[0m\u001b[0;34m=\u001b[0m\u001b[0mlist\u001b[0m\u001b[0;34m(\u001b[0m\u001b[0mparams\u001b[0m\u001b[0;34m[\u001b[0m\u001b[0;34m\"mu\"\u001b[0m\u001b[0;34m+\u001b[0m\u001b[0mstr\u001b[0m\u001b[0;34m(\u001b[0m\u001b[0mj\u001b[0m\u001b[0;34m+\u001b[0m\u001b[0;36m1\u001b[0m\u001b[0;34m)\u001b[0m\u001b[0;34m]\u001b[0m\u001b[0;34m)\u001b[0m\u001b[0;34m,\u001b[0m\u001b[0mw\u001b[0m\u001b[0;34m=\u001b[0m\u001b[0mparams\u001b[0m\u001b[0;34m[\u001b[0m\u001b[0;34m\"weights\"\u001b[0m\u001b[0;34m]\u001b[0m\u001b[0;34m[\u001b[0m\u001b[0mj\u001b[0m\u001b[0;34m]\u001b[0m\u001b[0;34m,\u001b[0m\u001b[0mx\u001b[0m\u001b[0;34m=\u001b[0m\u001b[0mfeats\u001b[0m\u001b[0;34m[\u001b[0m\u001b[0mi\u001b[0m\u001b[0;34m]\u001b[0m\u001b[0;34m)\u001b[0m\u001b[0;34m\u001b[0m\u001b[0m\n\u001b[0m\u001b[1;32m     13\u001b[0m         \u001b[0mtotal_log_like\u001b[0m\u001b[0;34m+=\u001b[0m\u001b[0mnp\u001b[0m\u001b[0;34m.\u001b[0m\u001b[0mlog\u001b[0m\u001b[0;34m(\u001b[0m\u001b[0mtmp_sum\u001b[0m\u001b[0;34m)\u001b[0m\u001b[0;34m\u001b[0m\u001b[0m\n\u001b[1;32m     14\u001b[0m \u001b[0;34m\u001b[0m\u001b[0m\n",
      "\u001b[0;32m<ipython-input-218-bb7efef42eeb>\u001b[0m in \u001b[0;36mcalculate_prob\u001b[0;34m(x, mu, cov, w)\u001b[0m\n\u001b[1;32m      1\u001b[0m \u001b[0;32mdef\u001b[0m \u001b[0mcalculate_prob\u001b[0m\u001b[0;34m(\u001b[0m\u001b[0mx\u001b[0m\u001b[0;34m,\u001b[0m\u001b[0mmu\u001b[0m\u001b[0;34m,\u001b[0m\u001b[0mcov\u001b[0m\u001b[0;34m,\u001b[0m\u001b[0mw\u001b[0m\u001b[0;34m)\u001b[0m\u001b[0;34m:\u001b[0m\u001b[0;34m\u001b[0m\u001b[0m\n\u001b[1;32m      2\u001b[0m     \u001b[0mprob\u001b[0m\u001b[0;34m=\u001b[0m\u001b[0mw\u001b[0m\u001b[0;34m\u001b[0m\u001b[0m\n\u001b[0;32m----> 3\u001b[0;31m     \u001b[0mprob\u001b[0m\u001b[0;34m*=\u001b[0m\u001b[0mmultivariate_normal\u001b[0m\u001b[0;34m.\u001b[0m\u001b[0mpdf\u001b[0m\u001b[0;34m(\u001b[0m\u001b[0mx\u001b[0m\u001b[0;34m=\u001b[0m\u001b[0mx\u001b[0m\u001b[0;34m,\u001b[0m\u001b[0mcov\u001b[0m\u001b[0;34m=\u001b[0m\u001b[0mcov\u001b[0m\u001b[0;34m,\u001b[0m\u001b[0mmean\u001b[0m\u001b[0;34m=\u001b[0m\u001b[0mmu\u001b[0m\u001b[0;34m)\u001b[0m\u001b[0;34m\u001b[0m\u001b[0m\n\u001b[0m\u001b[1;32m      4\u001b[0m     \u001b[0;32mreturn\u001b[0m \u001b[0mprob\u001b[0m\u001b[0;34m\u001b[0m\u001b[0m\n",
      "\u001b[0;32m~/anaconda3/lib/python3.6/site-packages/scipy/stats/_multivariate.py\u001b[0m in \u001b[0;36mpdf\u001b[0;34m(self, x, mean, cov, allow_singular)\u001b[0m\n\u001b[1;32m    510\u001b[0m         \u001b[0mdim\u001b[0m\u001b[0;34m,\u001b[0m \u001b[0mmean\u001b[0m\u001b[0;34m,\u001b[0m \u001b[0mcov\u001b[0m \u001b[0;34m=\u001b[0m \u001b[0mself\u001b[0m\u001b[0;34m.\u001b[0m\u001b[0m_process_parameters\u001b[0m\u001b[0;34m(\u001b[0m\u001b[0;32mNone\u001b[0m\u001b[0;34m,\u001b[0m \u001b[0mmean\u001b[0m\u001b[0;34m,\u001b[0m \u001b[0mcov\u001b[0m\u001b[0;34m)\u001b[0m\u001b[0;34m\u001b[0m\u001b[0m\n\u001b[1;32m    511\u001b[0m         \u001b[0mx\u001b[0m \u001b[0;34m=\u001b[0m \u001b[0mself\u001b[0m\u001b[0;34m.\u001b[0m\u001b[0m_process_quantiles\u001b[0m\u001b[0;34m(\u001b[0m\u001b[0mx\u001b[0m\u001b[0;34m,\u001b[0m \u001b[0mdim\u001b[0m\u001b[0;34m)\u001b[0m\u001b[0;34m\u001b[0m\u001b[0m\n\u001b[0;32m--> 512\u001b[0;31m         \u001b[0mpsd\u001b[0m \u001b[0;34m=\u001b[0m \u001b[0m_PSD\u001b[0m\u001b[0;34m(\u001b[0m\u001b[0mcov\u001b[0m\u001b[0;34m,\u001b[0m \u001b[0mallow_singular\u001b[0m\u001b[0;34m=\u001b[0m\u001b[0mallow_singular\u001b[0m\u001b[0;34m)\u001b[0m\u001b[0;34m\u001b[0m\u001b[0m\n\u001b[0m\u001b[1;32m    513\u001b[0m         \u001b[0mout\u001b[0m \u001b[0;34m=\u001b[0m \u001b[0mnp\u001b[0m\u001b[0;34m.\u001b[0m\u001b[0mexp\u001b[0m\u001b[0;34m(\u001b[0m\u001b[0mself\u001b[0m\u001b[0;34m.\u001b[0m\u001b[0m_logpdf\u001b[0m\u001b[0;34m(\u001b[0m\u001b[0mx\u001b[0m\u001b[0;34m,\u001b[0m \u001b[0mmean\u001b[0m\u001b[0;34m,\u001b[0m \u001b[0mpsd\u001b[0m\u001b[0;34m.\u001b[0m\u001b[0mU\u001b[0m\u001b[0;34m,\u001b[0m \u001b[0mpsd\u001b[0m\u001b[0;34m.\u001b[0m\u001b[0mlog_pdet\u001b[0m\u001b[0;34m,\u001b[0m \u001b[0mpsd\u001b[0m\u001b[0;34m.\u001b[0m\u001b[0mrank\u001b[0m\u001b[0;34m)\u001b[0m\u001b[0;34m)\u001b[0m\u001b[0;34m\u001b[0m\u001b[0m\n\u001b[1;32m    514\u001b[0m         \u001b[0;32mreturn\u001b[0m \u001b[0m_squeeze_output\u001b[0m\u001b[0;34m(\u001b[0m\u001b[0mout\u001b[0m\u001b[0;34m)\u001b[0m\u001b[0;34m\u001b[0m\u001b[0m\n",
      "\u001b[0;32m~/anaconda3/lib/python3.6/site-packages/scipy/stats/_multivariate.py\u001b[0m in \u001b[0;36m__init__\u001b[0;34m(self, M, cond, rcond, lower, check_finite, allow_singular)\u001b[0m\n\u001b[1;32m    154\u001b[0m         \u001b[0meps\u001b[0m \u001b[0;34m=\u001b[0m \u001b[0m_eigvalsh_to_eps\u001b[0m\u001b[0;34m(\u001b[0m\u001b[0ms\u001b[0m\u001b[0;34m,\u001b[0m \u001b[0mcond\u001b[0m\u001b[0;34m,\u001b[0m \u001b[0mrcond\u001b[0m\u001b[0;34m)\u001b[0m\u001b[0;34m\u001b[0m\u001b[0m\n\u001b[1;32m    155\u001b[0m         \u001b[0;32mif\u001b[0m \u001b[0mnp\u001b[0m\u001b[0;34m.\u001b[0m\u001b[0mmin\u001b[0m\u001b[0;34m(\u001b[0m\u001b[0ms\u001b[0m\u001b[0;34m)\u001b[0m \u001b[0;34m<\u001b[0m \u001b[0;34m-\u001b[0m\u001b[0meps\u001b[0m\u001b[0;34m:\u001b[0m\u001b[0;34m\u001b[0m\u001b[0m\n\u001b[0;32m--> 156\u001b[0;31m             \u001b[0;32mraise\u001b[0m \u001b[0mValueError\u001b[0m\u001b[0;34m(\u001b[0m\u001b[0;34m'the input matrix must be positive semidefinite'\u001b[0m\u001b[0;34m)\u001b[0m\u001b[0;34m\u001b[0m\u001b[0m\n\u001b[0m\u001b[1;32m    157\u001b[0m         \u001b[0md\u001b[0m \u001b[0;34m=\u001b[0m \u001b[0ms\u001b[0m\u001b[0;34m[\u001b[0m\u001b[0ms\u001b[0m \u001b[0;34m>\u001b[0m \u001b[0meps\u001b[0m\u001b[0;34m]\u001b[0m\u001b[0;34m\u001b[0m\u001b[0m\n\u001b[1;32m    158\u001b[0m         \u001b[0;32mif\u001b[0m \u001b[0mlen\u001b[0m\u001b[0;34m(\u001b[0m\u001b[0md\u001b[0m\u001b[0;34m)\u001b[0m \u001b[0;34m<\u001b[0m \u001b[0mlen\u001b[0m\u001b[0;34m(\u001b[0m\u001b[0ms\u001b[0m\u001b[0;34m)\u001b[0m \u001b[0;32mand\u001b[0m \u001b[0;32mnot\u001b[0m \u001b[0mallow_singular\u001b[0m\u001b[0;34m:\u001b[0m\u001b[0;34m\u001b[0m\u001b[0m\n",
      "\u001b[0;31mValueError\u001b[0m: the input matrix must be positive semidefinite"
     ]
    }
   ],
   "source": [
    "mu1 = [0, 5]\n",
    "sig1 = [ [2, 0], [0, 3] ]\n",
    "\n",
    "mu2 = [5, 0]\n",
    "sig2 = [ [4, 0], [0, 1] ]\n",
    "\n",
    "\n",
    "df=generate_data(2,2,[mu1,mu2],[sig1,sig2],30)\n",
    "df.head()\n",
    "\n",
    "df_t=df.drop(columns=[\"label\"])\n",
    "plot_data_scatter(\"feat_0\",\"feat_1\",20,\"label\",df)\n",
    "plt.show()\n",
    "\n",
    "\n",
    "\n",
    "EM(df,2,2)"
   ]
  },
  {
   "cell_type": "code",
   "execution_count": null,
   "metadata": {},
   "outputs": [],
   "source": []
  },
  {
   "cell_type": "code",
   "execution_count": null,
   "metadata": {},
   "outputs": [],
   "source": []
  },
  {
   "cell_type": "code",
   "execution_count": null,
   "metadata": {},
   "outputs": [],
   "source": []
  }
 ],
 "metadata": {
  "kernelspec": {
   "display_name": "Python 3",
   "language": "python",
   "name": "python3"
  },
  "language_info": {
   "codemirror_mode": {
    "name": "ipython",
    "version": 3
   },
   "file_extension": ".py",
   "mimetype": "text/x-python",
   "name": "python",
   "nbconvert_exporter": "python",
   "pygments_lexer": "ipython3",
   "version": "3.6.5"
  }
 },
 "nbformat": 4,
 "nbformat_minor": 2
}
