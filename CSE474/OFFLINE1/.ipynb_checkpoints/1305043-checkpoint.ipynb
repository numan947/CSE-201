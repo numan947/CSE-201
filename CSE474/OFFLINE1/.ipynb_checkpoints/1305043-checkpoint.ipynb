{
 "cells": [
  {
   "cell_type": "code",
   "execution_count": 1,
   "metadata": {},
   "outputs": [],
   "source": [
    "import pandas as pd\n",
    "import numpy as np"
   ]
  },
  {
   "cell_type": "code",
   "execution_count": 2,
   "metadata": {},
   "outputs": [],
   "source": [
    "def vectorize_target(target):\n",
    "    t_v = np.zeros((len(target),len(np.unique(target)))) #labels are 0,1,2.......\n",
    "    #print(t_v.shape)\n",
    "    for i in range(len(target)):\n",
    "        #print(i,target[i])\n",
    "        t_v[i,target[i]]=1\n",
    "    return t_v"
   ]
  },
  {
   "cell_type": "code",
   "execution_count": 3,
   "metadata": {},
   "outputs": [],
   "source": [
    "def sigmoid(z):\n",
    "    return 1/(1+np.exp(-z))"
   ]
  },
  {
   "cell_type": "code",
   "execution_count": 4,
   "metadata": {},
   "outputs": [],
   "source": [
    "def sigmoid_deriv(z):\n",
    "    return sigmoid(z)*(1-sigmoid(z))"
   ]
  },
  {
   "cell_type": "code",
   "execution_count": 5,
   "metadata": {},
   "outputs": [],
   "source": [
    "def initialize_weights(nn_config): #number of features, hidden layers, output nodes\n",
    "    weights={}\n",
    "    bias={}\n",
    "    for layer in range(1,len(nn_config)):\n",
    "        weights[layer]=np.random.random((nn_config[layer],nn_config[layer-1]))\n",
    "        bias[layer]=np.random.random((nn_config[layer],))\n",
    "    \n",
    "    return weights,bias"
   ]
  },
  {
   "cell_type": "code",
   "execution_count": 6,
   "metadata": {},
   "outputs": [],
   "source": [
    "def initialize_diffs(nn_config):\n",
    "    dweights={}\n",
    "    dbias={}\n",
    "    for layer in range(1,len(nn_config)):\n",
    "        dweights[layer]=np.zeros((nn_config[layer],nn_config[layer-1]))\n",
    "        dbias[layer]=np.zeros((nn_config[layer],))\n",
    "    return dweights,dbias"
   ]
  },
  {
   "cell_type": "code",
   "execution_count": 7,
   "metadata": {},
   "outputs": [],
   "source": [
    "def forward_pass(x,W,b):\n",
    "    h={1:x} #setting up layer 1\n",
    "    z={}\n",
    "    for layer in range(1,len(W)+1):\n",
    "        inputs=h[layer]\n",
    "        z[layer+1]=W[layer].dot(inputs) + b[layer]\n",
    "        h[layer+1]=sigmoid(z[layer+1])\n",
    "    return h,z"
   ]
  },
  {
   "cell_type": "code",
   "execution_count": 8,
   "metadata": {},
   "outputs": [],
   "source": [
    "def outputlayer_error(y_actual,h_out,z_out):\n",
    "    #y_actual=y_actual.reshape(len(y_actual),1)\n",
    "    #print(y_actual.shape,h_out.shape,z_out.shape)\n",
    "    tmp=-(y_actual-h_out)*sigmoid_deriv(z_out)\n",
    "    return tmp"
   ]
  },
  {
   "cell_type": "code",
   "execution_count": 9,
   "metadata": {},
   "outputs": [],
   "source": [
    "def hiddenlayer_error(next_layer_error,weights,z):\n",
    "    tmp=np.dot(np.transpose(weights),next_layer_error) * sigmoid_deriv(z)\n",
    "    #print(z.shape)\n",
    "    return tmp"
   ]
  },
  {
   "cell_type": "code",
   "execution_count": 10,
   "metadata": {},
   "outputs": [],
   "source": [
    "def train_neural_net(nn_config,X,y,iters=1000,alpha=0.15):\n",
    "    \n",
    "    W,b=initialize_weights(nn_config)\n",
    "    \n",
    "    total_train=len(y)\n",
    "    \n",
    "    print('TOTAL ITERATIONS-->',iters)\n",
    "    \n",
    "    cur_iter=0\n",
    "    \n",
    "    while cur_iter<iters:\n",
    "        if(cur_iter%50==0):\n",
    "            print(\"ITERATION NUMBER \",cur_iter,\" IS RUNNING\")\n",
    "        \n",
    "        dW,db=initialize_diffs(nn_config)\n",
    "        \n",
    "        for i in range(total_train):\n",
    "            diffs={}\n",
    "            \n",
    "            #forward propagation\n",
    "            h,z = forward_pass(X[i,:],W,b)\n",
    "            \n",
    "            \n",
    "            #backward propagation\n",
    "            for l in range(len(nn_config),0,-1):\n",
    "                \n",
    "                if(l==len(nn_config)):\n",
    "                    diffs[l]=outputlayer_error(y[i,:],h[l],z[l])\n",
    "                else:\n",
    "                    if(l>1):\n",
    "                        diffs[l]=hiddenlayer_error(diffs[l+1],W[l],z[l])\n",
    "                    \n",
    "                   #print(dW[l].shape)\n",
    "                    #print(diffs[l+1].shape)\n",
    "                   # print(h[l].shape)\n",
    "                    \n",
    "                    dW[l]+=np.dot(diffs[l+1][:,np.newaxis],np.transpose(h[l][:,np.newaxis]))\n",
    "                    db[l]+=diffs[l+1]\n",
    "                \n",
    "            \n",
    "            for l in range(len(nn_config)-1,0,-1):\n",
    "                W[l]+= -alpha*(1.0/total_train * dW[l])\n",
    "                b[l]+=-alpha*(1.0/total_train *db[l])\n",
    "        cur_iter+=1\n",
    "    return W,b"
   ]
  },
  {
   "cell_type": "code",
   "execution_count": 11,
   "metadata": {},
   "outputs": [],
   "source": [
    "def predict_neural_net(W,b,X,n_layers):\n",
    "    m=X.shape[0] #number of predictions to make\n",
    "    y=np.zeros((m))\n",
    "    \n",
    "    for i in range(m):\n",
    "        h,z = forward_pass(X[i,:],W,b)\n",
    "        y[i]=np.argmax(h[n_layers])\n",
    "    return y"
   ]
  },
  {
   "cell_type": "code",
   "execution_count": 12,
   "metadata": {},
   "outputs": [],
   "source": [
    "from sklearn.preprocessing import StandardScaler\n",
    "X_scale = StandardScaler()"
   ]
  },
  {
   "cell_type": "code",
   "execution_count": 13,
   "metadata": {},
   "outputs": [],
   "source": [
    "train_data=pd.read_csv('train.txt',delim_whitespace=True,header=None)"
   ]
  },
  {
   "cell_type": "code",
   "execution_count": 14,
   "metadata": {},
   "outputs": [
    {
     "data": {
      "text/html": [
       "<div>\n",
       "<style scoped>\n",
       "    .dataframe tbody tr th:only-of-type {\n",
       "        vertical-align: middle;\n",
       "    }\n",
       "\n",
       "    .dataframe tbody tr th {\n",
       "        vertical-align: top;\n",
       "    }\n",
       "\n",
       "    .dataframe thead th {\n",
       "        text-align: right;\n",
       "    }\n",
       "</style>\n",
       "<table border=\"1\" class=\"dataframe\">\n",
       "  <thead>\n",
       "    <tr style=\"text-align: right;\">\n",
       "      <th></th>\n",
       "      <th>0</th>\n",
       "      <th>1</th>\n",
       "      <th>2</th>\n",
       "    </tr>\n",
       "  </thead>\n",
       "  <tbody>\n",
       "    <tr>\n",
       "      <th>0</th>\n",
       "      <td>1.7044</td>\n",
       "      <td>3.6651</td>\n",
       "      <td>1</td>\n",
       "    </tr>\n",
       "    <tr>\n",
       "      <th>1</th>\n",
       "      <td>1.6726</td>\n",
       "      <td>4.6705</td>\n",
       "      <td>1</td>\n",
       "    </tr>\n",
       "    <tr>\n",
       "      <th>2</th>\n",
       "      <td>1.4597</td>\n",
       "      <td>4.1940</td>\n",
       "      <td>1</td>\n",
       "    </tr>\n",
       "    <tr>\n",
       "      <th>3</th>\n",
       "      <td>1.9761</td>\n",
       "      <td>4.1965</td>\n",
       "      <td>1</td>\n",
       "    </tr>\n",
       "    <tr>\n",
       "      <th>4</th>\n",
       "      <td>2.1897</td>\n",
       "      <td>3.1463</td>\n",
       "      <td>1</td>\n",
       "    </tr>\n",
       "  </tbody>\n",
       "</table>\n",
       "</div>"
      ],
      "text/plain": [
       "        0       1  2\n",
       "0  1.7044  3.6651  1\n",
       "1  1.6726  4.6705  1\n",
       "2  1.4597  4.1940  1\n",
       "3  1.9761  4.1965  1\n",
       "4  2.1897  3.1463  1"
      ]
     },
     "execution_count": 14,
     "metadata": {},
     "output_type": "execute_result"
    }
   ],
   "source": [
    "train_data.head()"
   ]
  },
  {
   "cell_type": "code",
   "execution_count": 15,
   "metadata": {},
   "outputs": [],
   "source": [
    "X_train=train_data.as_matrix(columns=[0,1])\n",
    "X_train=X_scale.fit_transform(X_train)"
   ]
  },
  {
   "cell_type": "code",
   "execution_count": 16,
   "metadata": {},
   "outputs": [],
   "source": [
    "y_train=train_data.as_matrix(columns=[2])"
   ]
  },
  {
   "cell_type": "code",
   "execution_count": 17,
   "metadata": {
    "scrolled": true
   },
   "outputs": [],
   "source": [
    "for i in range(len(y_train)):\n",
    "    y_train[i]-=1"
   ]
  },
  {
   "cell_type": "code",
   "execution_count": 18,
   "metadata": {
    "scrolled": true
   },
   "outputs": [],
   "source": [
    "y_v_train=vectorize_target(y_train)"
   ]
  },
  {
   "cell_type": "code",
   "execution_count": 25,
   "metadata": {
    "scrolled": false
   },
   "outputs": [
    {
     "name": "stdout",
     "output_type": "stream",
     "text": [
      "TOTAL ITERATIONS--> 200\n",
      "ITERATION NUMBER  0  IS RUNNING\n",
      "ITERATION NUMBER  50  IS RUNNING\n",
      "ITERATION NUMBER  100  IS RUNNING\n",
      "ITERATION NUMBER  150  IS RUNNING\n"
     ]
    }
   ],
   "source": [
    "W,b = train_neural_net([X_train.shape[1],4,4,y_v_train.shape[1]],X_train,y_v_train,iters=200)"
   ]
  },
  {
   "cell_type": "code",
   "execution_count": 26,
   "metadata": {},
   "outputs": [],
   "source": [
    "y_pred=predict_neural_net(W=W,b=b,X=X_train,n_layers=4)"
   ]
  },
  {
   "cell_type": "code",
   "execution_count": 27,
   "metadata": {},
   "outputs": [
    {
     "data": {
      "text/plain": [
       "1.0"
      ]
     },
     "execution_count": 27,
     "metadata": {},
     "output_type": "execute_result"
    }
   ],
   "source": [
    "from sklearn.metrics import accuracy_score\n",
    "accuracy_score(y_pred=y_pred,y_true=y_train)"
   ]
  },
  {
   "cell_type": "code",
   "execution_count": null,
   "metadata": {},
   "outputs": [],
   "source": []
  },
  {
   "cell_type": "code",
   "execution_count": null,
   "metadata": {},
   "outputs": [],
   "source": []
  },
  {
   "cell_type": "code",
   "execution_count": null,
   "metadata": {},
   "outputs": [],
   "source": []
  }
 ],
 "metadata": {
  "kernelspec": {
   "display_name": "Python 3",
   "language": "python",
   "name": "python3"
  },
  "language_info": {
   "codemirror_mode": {
    "name": "ipython",
    "version": 3
   },
   "file_extension": ".py",
   "mimetype": "text/x-python",
   "name": "python",
   "nbconvert_exporter": "python",
   "pygments_lexer": "ipython3",
   "version": "3.6.5"
  }
 },
 "nbformat": 4,
 "nbformat_minor": 2
}
